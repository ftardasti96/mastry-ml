{
 "cells": [
  {
   "cell_type": "code",
   "execution_count": 6,
   "metadata": {},
   "outputs": [],
   "source": [
    "from pandas import Series\n",
    "from sklearn.preprocessing import MinMaxScaler\n",
    "import numpy as np"
   ]
  },
  {
   "cell_type": "code",
   "execution_count": 16,
   "metadata": {},
   "outputs": [
    {
     "name": "stdout",
     "output_type": "stream",
     "text": [
      "normalized data:  [[0.        ]\n",
      " [0.42857143]\n",
      " [0.57142857]\n",
      " [1.        ]\n",
      " [0.14285714]\n",
      " [0.28571429]\n",
      " [0.14285714]\n",
      " [0.        ]]\n",
      "usual data:  [[1.]\n",
      " [4.]\n",
      " [5.]\n",
      " [8.]\n",
      " [2.]\n",
      " [3.]\n",
      " [2.]\n",
      " [1.]]\n"
     ]
    }
   ],
   "source": [
    "# define contrived series\n",
    "data = [1,4,5,8,2,3,2,1]\n",
    "values = np.array(data)\n",
    "values = values.reshape((len(data)),1)\n",
    "# train the normalization\n",
    "minmax = MinMaxScaler()\n",
    "minmax = minmax.fit(values)\n",
    "normalized = minmax.transform(values)\n",
    "print('normalized data: ',normalized)\n",
    "#inverse\n",
    "usual = minmax.inverse_transform(normalized)\n",
    "print('usual data: ',usual)"
   ]
  },
  {
   "cell_type": "code",
   "execution_count": null,
   "metadata": {},
   "outputs": [],
   "source": []
  }
 ],
 "metadata": {
  "kernelspec": {
   "display_name": "Python 3",
   "language": "python",
   "name": "python3"
  },
  "language_info": {
   "codemirror_mode": {
    "name": "ipython",
    "version": 3
   },
   "file_extension": ".py",
   "mimetype": "text/x-python",
   "name": "python",
   "nbconvert_exporter": "python",
   "pygments_lexer": "ipython3",
   "version": "3.6.9"
  }
 },
 "nbformat": 4,
 "nbformat_minor": 2
}
