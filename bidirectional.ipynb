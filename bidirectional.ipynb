{
 "cells": [
  {
   "cell_type": "code",
   "execution_count": 2,
   "metadata": {},
   "outputs": [],
   "source": [
    "import numpy as np\n",
    "from tensorflow import keras"
   ]
  },
  {
   "cell_type": "code",
   "execution_count": 3,
   "metadata": {},
   "outputs": [],
   "source": [
    "def random_generator(length):\n",
    "    return [np.random.rand() for _ in range(length)]"
   ]
  },
  {
   "cell_type": "code",
   "execution_count": 28,
   "metadata": {},
   "outputs": [],
   "source": [
    "seq = random_generator(5)"
   ]
  },
  {
   "cell_type": "code",
   "execution_count": 35,
   "metadata": {},
   "outputs": [],
   "source": [
    "def cumulative_sum(seq):\n",
    "    seq = np.pad(seq,(1,0),mode='constant')\n",
    "    for i in range(1,len(seq)):\n",
    "        seq[i] = seq[i]+seq[i-1]\n",
    "    return seq[1:]"
   ]
  },
  {
   "cell_type": "code",
   "execution_count": 43,
   "metadata": {},
   "outputs": [],
   "source": [
    "def out(cum_seq):\n",
    "    test = len(cum_seq)/4.0\n",
    "    y = list()\n",
    "    for i in cum_seq:\n",
    "        if i < test:\n",
    "            y.append(0)\n",
    "        else:\n",
    "            y.append(1)\n",
    "    return y\n"
   ]
  },
  {
   "cell_type": "code",
   "execution_count": 88,
   "metadata": {},
   "outputs": [],
   "source": [
    "def generate_example(n_patterns,length):\n",
    "    X,y = list(),list()\n",
    "    for _ in range(n_patterns):\n",
    "        seq = random_generator(length)\n",
    "        cum_seq = cumulative_sum(seq)\n",
    "        out_seq = out(cum_seq)\n",
    "        X.append(seq)\n",
    "        y.append(out_seq)\n",
    "    X = np.array(X).reshape(n_patterns,length,1)\n",
    "    y = np.array(y).reshape(n_patterns,length,1)\n",
    "    return X,y"
   ]
  },
  {
   "cell_type": "code",
   "execution_count": 89,
   "metadata": {},
   "outputs": [
    {
     "name": "stdout",
     "output_type": "stream",
     "text": [
      "_________________________________________________________________\n",
      "Layer (type)                 Output Shape              Param #   \n",
      "=================================================================\n",
      "bidirectional_5 (Bidirection (None, 10, 100)           20800     \n",
      "_________________________________________________________________\n",
      "time_distributed_5 (TimeDist (None, 10, 1)             101       \n",
      "=================================================================\n",
      "Total params: 20,901\n",
      "Trainable params: 20,901\n",
      "Non-trainable params: 0\n",
      "_________________________________________________________________\n",
      "None\n"
     ]
    }
   ],
   "source": [
    "#define model\n",
    "time_step = 10\n",
    "model = keras.models.Sequential()\n",
    "model.add(keras.layers.Bidirectional(keras.layers.LSTM(50,return_sequences=True),input_shape=(time_step,1)))\n",
    "model.add(keras.layers.TimeDistributed(keras.layers.Dense(1,activation='sigmoid')))\n",
    "model.compile(optimizer='adam',loss='binary_crossentropy',metrics=['acc'])\n",
    "print(model.summary())"
   ]
  },
  {
   "cell_type": "code",
   "execution_count": 90,
   "metadata": {},
   "outputs": [
    {
     "name": "stdout",
     "output_type": "stream",
     "text": [
      "Epoch 1/1\n",
      "50000/50000 [==============================] - 43s 863us/step - loss: 0.0521 - acc: 0.9804\n"
     ]
    },
    {
     "data": {
      "text/plain": [
       "<tensorflow.python.keras.callbacks.History at 0x183fa0f7d30>"
      ]
     },
     "execution_count": 90,
     "metadata": {},
     "output_type": "execute_result"
    }
   ],
   "source": [
    "X,y = generate_example(50000,time_step)\n",
    "model.fit(X,y,batch_size=10,epochs=1)"
   ]
  },
  {
   "cell_type": "code",
   "execution_count": 92,
   "metadata": {},
   "outputs": [
    {
     "name": "stdout",
     "output_type": "stream",
     "text": [
      "y=[0 0 0 1 1 1 1 1 1 1], yhat=[0 0 0 0 1 1 1 1 1 1], correct=False\n",
      "y=[0 0 0 0 0 1 1 1 1 1], yhat=[0 0 0 0 0 1 1 1 1 1], correct=True\n",
      "y=[0 0 0 0 1 1 1 1 1 1], yhat=[0 0 0 0 0 1 1 1 1 1], correct=False\n",
      "y=[0 0 0 0 0 1 1 1 1 1], yhat=[0 0 0 0 0 1 1 1 1 1], correct=True\n",
      "y=[0 0 0 0 0 0 1 1 1 1], yhat=[0 0 0 0 0 0 1 1 1 1], correct=True\n",
      "y=[0 0 1 1 1 1 1 1 1 1], yhat=[0 0 1 1 1 1 1 1 1 1], correct=True\n",
      "y=[0 0 0 1 1 1 1 1 1 1], yhat=[0 0 0 1 1 1 1 1 1 1], correct=True\n",
      "y=[0 0 0 0 1 1 1 1 1 1], yhat=[0 0 0 0 1 1 1 1 1 1], correct=True\n",
      "y=[0 0 0 0 0 0 1 1 1 1], yhat=[0 0 0 0 0 0 1 1 1 1], correct=True\n",
      "y=[0 0 0 1 1 1 1 1 1 1], yhat=[0 0 0 1 1 1 1 1 1 1], correct=True\n"
     ]
    }
   ],
   "source": [
    "# make predictions\n",
    "for _ in range(10):\n",
    "    X, y = generate_example(1, time_step)\n",
    "    yhat = model.predict_classes(X, verbose=0)\n",
    "    exp, pred = y.reshape(time_step), yhat.reshape(time_step)\n",
    "    print( 'y=%s, yhat=%s, correct=%s' % (exp, pred, np.array_equal(exp,pred)))"
   ]
  },
  {
   "cell_type": "code",
   "execution_count": null,
   "metadata": {},
   "outputs": [],
   "source": []
  }
 ],
 "metadata": {
  "kernelspec": {
   "display_name": "Python 3",
   "language": "python",
   "name": "python3"
  },
  "language_info": {
   "codemirror_mode": {
    "name": "ipython",
    "version": 3
   },
   "file_extension": ".py",
   "mimetype": "text/x-python",
   "name": "python",
   "nbconvert_exporter": "python",
   "pygments_lexer": "ipython3",
   "version": "3.6.9"
  }
 },
 "nbformat": 4,
 "nbformat_minor": 2
}
