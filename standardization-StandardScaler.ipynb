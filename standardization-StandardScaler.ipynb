{
 "cells": [
  {
   "cell_type": "code",
   "execution_count": 3,
   "metadata": {},
   "outputs": [],
   "source": [
    "from sklearn.preprocessing import StandardScaler\n",
    "import numpy as np"
   ]
  },
  {
   "cell_type": "code",
   "execution_count": 4,
   "metadata": {},
   "outputs": [
    {
     "name": "stdout",
     "output_type": "stream",
     "text": [
      "standardized data:  [[-1.01257911]\n",
      " [ 0.33752637]\n",
      " [ 0.78756153]\n",
      " [ 2.13766701]\n",
      " [-0.56254395]\n",
      " [-0.11250879]\n",
      " [-0.56254395]\n",
      " [-1.01257911]]\n",
      "usual data:  [[1.]\n",
      " [4.]\n",
      " [5.]\n",
      " [8.]\n",
      " [2.]\n",
      " [3.]\n",
      " [2.]\n",
      " [1.]]\n"
     ]
    }
   ],
   "source": [
    "# define contrived series\n",
    "data = [1,4,5,8,2,3,2,1]\n",
    "values = np.array(data)\n",
    "values = values.reshape((len(data)),1)\n",
    "# train the standardization\n",
    "scaler = StandardScaler()\n",
    "scaler = scaler.fit(values)\n",
    "standardized = scaler.transform(values)\n",
    "print('standardized data: ',standardized)\n",
    "#inverse\n",
    "usual = scaler.inverse_transform(standardized)\n",
    "print('usual data: ',usual)"
   ]
  },
  {
   "cell_type": "code",
   "execution_count": 5,
   "metadata": {},
   "outputs": [
    {
     "name": "stdout",
     "output_type": "stream",
     "text": [
      "Mean: 3.250000, StandardDeviation: 4.937500\n"
     ]
    }
   ],
   "source": [
    "print( 'Mean: %f, StandardDeviation: %f' % (scaler.mean_, (scaler.var_)))\n"
   ]
  },
  {
   "cell_type": "code",
   "execution_count": null,
   "metadata": {},
   "outputs": [],
   "source": []
  }
 ],
 "metadata": {
  "kernelspec": {
   "display_name": "Python 3",
   "language": "python",
   "name": "python3"
  },
  "language_info": {
   "codemirror_mode": {
    "name": "ipython",
    "version": 3
   },
   "file_extension": ".py",
   "mimetype": "text/x-python",
   "name": "python",
   "nbconvert_exporter": "python",
   "pygments_lexer": "ipython3",
   "version": "3.6.9"
  }
 },
 "nbformat": 4,
 "nbformat_minor": 2
}
